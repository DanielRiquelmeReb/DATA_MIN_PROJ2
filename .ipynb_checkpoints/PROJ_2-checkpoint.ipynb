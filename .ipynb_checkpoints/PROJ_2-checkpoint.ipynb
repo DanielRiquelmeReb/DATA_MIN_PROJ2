{
 "cells": [
  {
   "cell_type": "code",
   "execution_count": 40,
   "id": "9e9d1843",
   "metadata": {},
   "outputs": [],
   "source": [
    "import pandas as pd\n",
    "import numpy as np\n",
    "\n",
    "#READ data frame \n",
    "df_input = pd.read_csv(\"adult.input\")\n",
    "df_test = pd.read_csv(\"adult.test\")\n",
    "\n",
    "#add the column names\n",
    "df_input.columns = ['age','type_employer','fnlwgt','education','education_num','marital','occupation',\n",
    "             'relationship','race','sex','capital_gain','capital_loss','hr_per_week','country',\n",
    "             'income']\n",
    "df_test.columns = ['age','type_employer','fnlwgt','education','education_num','marital','occupation',\n",
    "             'relationship','race','sex','capital_gain','capital_loss','hr_per_week','country',\n",
    "             'income']\n",
    "\n",
    "#add missing first row, due to column name change\n",
    "first_row_input = {'age' : '24','type_employer' : 'Private','fnlwgt' : '176189','education' : 'HS-grad',\n",
    "       'education_num' : '9','marital' : 'Married-civ-spouse','occupation' : 'Machine-op-inspct',\n",
    "             'relationship' : 'Husband','race' : 'White','sex' : 'Male','capital_gain' : '0',\n",
    "       'capital_loss' : '0','hr_per_week' : '40','country' : 'United-States',\n",
    "             'income' : '<=50K'}\n",
    "\n",
    "df_input = df_input.append(first_row_input,ignore_index = True)"
   ]
  },
  {
   "cell_type": "code",
   "execution_count": 41,
   "id": "8ab1a644",
   "metadata": {},
   "outputs": [],
   "source": [
    "first_row_test = {'age' : '43','type_employer' : 'Self-emp-not-inc','fnlwgt' : '292175','education' : 'Masters',\n",
    "       'education_num' : '14','marital' : 'Divorced','occupation' : 'Exec-managerial',\n",
    "             'relationship' : 'Unmarried','race' : 'White','sex' : 'Female','capital_gain' : '0',\n",
    "       'capital_loss' : '0','hr_per_week' : '45','country' : 'United-States',\n",
    "             'income' : '?'}\n",
    "df_test = df_test.append(first_row_test,ignore_index = True)"
   ]
  },
  {
   "cell_type": "code",
   "execution_count": 42,
   "id": "e587a14a",
   "metadata": {},
   "outputs": [],
   "source": [
    "\n",
    "#remove instances with the missing values \"?\" marker\n",
    "df_input = df_input.loc[df_input[\"age\"] != \"?\"]\n",
    "df_input = df_input.loc[df_input[\"type_employer\"] != \"?\"]\n",
    "df_input = df_input.loc[df_input[\"fnlwgt\"] != \"?\"]\n",
    "df_input = df_input.loc[df_input[\"education\"] != \"?\"]\n",
    "df_input = df_input.loc[df_input[\"education_num\"] != \"?\"]\n",
    "df_input = df_input.loc[df_input[\"marital\"] != \"?\"]\n",
    "df_input = df_input.loc[df_input[\"occupation\"] != \"?\"]\n",
    "df_input = df_input.loc[df_input[\"relationship\"] != \"?\"]\n",
    "df_input = df_input.loc[df_input[\"race\"] != \"?\"]\n",
    "df_input = df_input.loc[df_input[\"sex\"] != \"?\"]\n",
    "df_input = df_input.loc[df_input[\"capital_gain\"] != \"?\"]\n",
    "df_input = df_input.loc[df_input[\"capital_loss\"] != \"?\"]\n",
    "df_input = df_input.loc[df_input[\"hr_per_week\"] != \"?\"]\n",
    "df_input = df_input.loc[df_input[\"country\"] != \"?\"]\n",
    "df_input = df_input.loc[df_input[\"income\"] != \"?\"]\n",
    "\n",
    "#df_input.shape"
   ]
  },
  {
   "cell_type": "code",
   "execution_count": 43,
   "id": "d4a6d7d6",
   "metadata": {},
   "outputs": [
    {
     "data": {
      "text/plain": [
       "(3700, 12)"
      ]
     },
     "execution_count": 43,
     "metadata": {},
     "output_type": "execute_result"
    }
   ],
   "source": [
    "#remove attributes fnlwgt,education,relationship\n",
    "df_input.drop(columns=[\"fnlwgt\",\"education\",\"relationship\"],inplace=True)\n",
    "\n",
    "#df_input.shape"
   ]
  },
  {
   "cell_type": "code",
   "execution_count": null,
   "id": "c753cfe0",
   "metadata": {},
   "outputs": [],
   "source": [
    "#binarization of capital gain, capital loss, and native country attributes"
   ]
  }
 ],
 "metadata": {
  "kernelspec": {
   "display_name": "Python 3 (ipykernel)",
   "language": "python",
   "name": "python3"
  },
  "language_info": {
   "codemirror_mode": {
    "name": "ipython",
    "version": 3
   },
   "file_extension": ".py",
   "mimetype": "text/x-python",
   "name": "python",
   "nbconvert_exporter": "python",
   "pygments_lexer": "ipython3",
   "version": "3.9.7"
  }
 },
 "nbformat": 4,
 "nbformat_minor": 5
}
