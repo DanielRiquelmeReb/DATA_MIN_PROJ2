{
 "cells": [
  {
   "cell_type": "markdown",
   "id": "05c55ca5",
   "metadata": {},
   "source": [
    "DATA PREPROCESSING"
   ]
  },
  {
   "cell_type": "code",
   "execution_count": 369,
   "id": "9e9d1843",
   "metadata": {},
   "outputs": [
    {
     "name": "stderr",
     "output_type": "stream",
     "text": [
      "C:\\Users\\driqu001\\AppData\\Local\\Temp\\ipykernel_12784\\4253525786.py:28: FutureWarning: The frame.append method is deprecated and will be removed from pandas in a future version. Use pandas.concat instead.\n",
      "  df_input = df_input.append(first_row_input,ignore_index = True)\n"
     ]
    }
   ],
   "source": [
    "import pandas as pd\n",
    "import numpy as np\n",
    "import random\n",
    "from sklearn.model_selection import train_test_split\n",
    "from sklearn.model_selection import cross_val_score\n",
    "from sklearn.tree import DecisionTreeClassifier\n",
    "from sklearn.metrics import accuracy_score\n",
    "\n",
    "#READ data frame \n",
    "df_input = pd.read_csv(\"adult.input\")\n",
    "df_test = pd.read_csv(\"adult.test\")\n",
    "\n",
    "#add the column names\n",
    "df_input.columns = ['age','type_employer','fnlwgt','education','education_num','marital','occupation',\n",
    "             'relationship','race','sex','capital_gain','capital_loss','hr_per_week','country',\n",
    "             'income']\n",
    "df_test.columns = ['age','type_employer','fnlwgt','education','education_num','marital','occupation',\n",
    "             'relationship','race','sex','capital_gain','capital_loss','hr_per_week','country',\n",
    "             'income']\n",
    "\n",
    "#add missing first row, due to column name change\n",
    "first_row_input = {'age' : '24','type_employer' : 'Private','fnlwgt' : '176189','education' : 'HS-grad',\n",
    "       'education_num' : '9','marital' : 'Married-civ-spouse','occupation' : 'Machine-op-inspct',\n",
    "             'relationship' : 'Husband','race' : 'White','sex' : 'Male','capital_gain' : '0',\n",
    "       'capital_loss' : '0','hr_per_week' : '40','country' : 'United-States',\n",
    "             'income' : '<=50K'}\n",
    "\n",
    "df_input = df_input.append(first_row_input,ignore_index = True)"
   ]
  },
  {
   "cell_type": "code",
   "execution_count": 370,
   "id": "8ab1a644",
   "metadata": {},
   "outputs": [
    {
     "name": "stderr",
     "output_type": "stream",
     "text": [
      "C:\\Users\\driqu001\\AppData\\Local\\Temp\\ipykernel_12784\\4204825365.py:6: FutureWarning: The frame.append method is deprecated and will be removed from pandas in a future version. Use pandas.concat instead.\n",
      "  df_test = df_test.append(first_row_test,ignore_index = True)\n"
     ]
    }
   ],
   "source": [
    "first_row_test = {'age' : '43','type_employer' : 'Self-emp-not-inc','fnlwgt' : '292175','education' : 'Masters',\n",
    "       'education_num' : '14','marital' : 'Divorced','occupation' : 'Exec-managerial',\n",
    "             'relationship' : 'Unmarried','race' : 'White','sex' : 'Female','capital_gain' : '0',\n",
    "       'capital_loss' : '0','hr_per_week' : '45','country' : 'United-States',\n",
    "             'income' : '?'}\n",
    "df_test = df_test.append(first_row_test,ignore_index = True)"
   ]
  },
  {
   "cell_type": "markdown",
   "id": "34e0a2dc",
   "metadata": {},
   "source": [
    "INPUT DATA PREPROCCESING"
   ]
  },
  {
   "cell_type": "code",
   "execution_count": 371,
   "id": "e587a14a",
   "metadata": {},
   "outputs": [],
   "source": [
    "\n",
    "#remove instances with the missing values \"?\" marker\n",
    "df_input = df_input.loc[df_input[\"age\"] != \"?\"]\n",
    "df_input = df_input.loc[df_input[\"type_employer\"] != \"?\"]\n",
    "df_input = df_input.loc[df_input[\"fnlwgt\"] != \"?\"]\n",
    "df_input = df_input.loc[df_input[\"education\"] != \"?\"]\n",
    "df_input = df_input.loc[df_input[\"education_num\"] != \"?\"]\n",
    "df_input = df_input.loc[df_input[\"marital\"] != \"?\"]\n",
    "df_input = df_input.loc[df_input[\"occupation\"] != \"?\"]\n",
    "df_input = df_input.loc[df_input[\"relationship\"] != \"?\"]\n",
    "df_input = df_input.loc[df_input[\"race\"] != \"?\"]\n",
    "df_input = df_input.loc[df_input[\"sex\"] != \"?\"]\n",
    "df_input = df_input.loc[df_input[\"capital_gain\"] != \"?\"]\n",
    "df_input = df_input.loc[df_input[\"capital_loss\"] != \"?\"]\n",
    "df_input = df_input.loc[df_input[\"hr_per_week\"] != \"?\"]\n",
    "df_input = df_input.loc[df_input[\"country\"] != \"?\"]\n",
    "df_input = df_input.loc[df_input[\"income\"] != \"?\"]\n",
    "\n",
    "#df_input.shape"
   ]
  },
  {
   "cell_type": "code",
   "execution_count": 372,
   "id": "d4a6d7d6",
   "metadata": {},
   "outputs": [],
   "source": [
    "#remove attributes fnlwgt,education,relationship\n",
    "#NOTE: DROPPED education_num because it was irrelevant when education atribute is prunned. \\\n",
    "#It also reduces the possibility of overfitting.\n",
    "\n",
    "df_input.drop(columns=[\"fnlwgt\",\"education\",\"relationship\",\"education_num\"],inplace=True)\n",
    "\n",
    "#df_input.shape"
   ]
  },
  {
   "cell_type": "code",
   "execution_count": 373,
   "id": "7a7be807",
   "metadata": {},
   "outputs": [],
   "source": [
    "#binarization of capital gain, capital loss, and native country attributes\n",
    "df_input.capital_gain[df_input.capital_gain.astype(int) > 0] = 1\n",
    "df_input.capital_gain[df_input.capital_gain.astype(int) == 0] = 0\n",
    "\n",
    "df_input.capital_loss[df_input.capital_loss.astype(int) > 0] = 1\n",
    "df_input.capital_loss[df_input.capital_loss.astype(int) == 0] = 0\n"
   ]
  },
  {
   "cell_type": "code",
   "execution_count": 374,
   "id": "db2675ce",
   "metadata": {},
   "outputs": [],
   "source": [
    "df_input[\"country\"] = np.where(df_input[\"country\"] == \"United-States\", 1, 0)\n",
    "\n",
    "#df_input"
   ]
  },
  {
   "cell_type": "code",
   "execution_count": 375,
   "id": "25776e15",
   "metadata": {},
   "outputs": [],
   "source": [
    "#Discretization of continuous attributes [age,hours_per_week]\n",
    "df_input[\"young\"] = np.where(df_input.age.astype(int) <= 25, 1, 0)\n",
    "df_input[\"adult\"] = np.where((df_input.age.astype(int) >= 26) & (df_input.age.astype(int) <= 45), 1, 0)\n",
    "df_input[\"senior\"] = np.where((df_input.age.astype(int) >= 46) & (df_input.age.astype(int) <= 65), 1, 0)\n",
    "df_input[\"old\"] = np.where((df_input.age.astype(int) >= 66) & (df_input.age.astype(int) <= 90), 1, 0)\n",
    "\n",
    "df_input.drop(columns=[\"age\"],inplace=True)\n",
    "#df_input"
   ]
  },
  {
   "cell_type": "code",
   "execution_count": 376,
   "id": "816075ed",
   "metadata": {},
   "outputs": [],
   "source": [
    "df_input[\"part_time\"] = np.where(df_input.hr_per_week.astype(int) < 40, 1, 0)\n",
    "df_input[\"full_time\"] = np.where(df_input.hr_per_week.astype(int) == 40, 1, 0)\n",
    "df_input[\"over_time\"] = np.where(df_input.hr_per_week.astype(int) > 40, 1, 0)\n",
    "\n",
    "df_input.drop(columns=[\"hr_per_week\"],inplace=True)\n",
    "\n",
    "# df_input"
   ]
  },
  {
   "cell_type": "code",
   "execution_count": 377,
   "id": "e25ff2c7",
   "metadata": {},
   "outputs": [],
   "source": [
    "# Merge values and creation of new binary assymetric attributes, WORKING CLASS\n",
    "# [Fed,local,stat]-> gov\n",
    "# [w/o pay, never worked] -> not_working\n",
    "# [Private] -> private\n",
    "# [Self-inc,self-not-inc] -> self_employed\n",
    "\n",
    "df_input[\"gov\"] = np.where( ((df_input[\"type_employer\"] == \"Federal-gov\") | (df_input[\"type_employer\"] == \"Local-gov\") | (df_input[\"type_employer\"] == \"State-gov\")), 1, 0)\n",
    "\n",
    "df_input[\"not_working\"] = np.where( ((df_input[\"type_employer\"] == \"Without-pay\") | (df_input[\"type_employer\"] == \"Never-worked\")), 1, 0)\n",
    "\n",
    "df_input[\"private\"] = np.where( (df_input[\"type_employer\"] == \"Private\"), 1, 0)\n",
    "\n",
    "df_input[\"self_employed\"] = np.where( ((df_input[\"type_employer\"] == \"Self-emp-inc\") | (df_input[\"type_employer\"] == \"Self-emp-not-inc\")), 1, 0)\n",
    "\n",
    "df_input.drop(columns=[\"type_employer\"],inplace=True)\n",
    "\n",
    "# df_input"
   ]
  },
  {
   "cell_type": "code",
   "execution_count": 378,
   "id": "762ac5af",
   "metadata": {},
   "outputs": [],
   "source": [
    "# Merge values and creation of new binary assymetric attributes, MARITAL STATUS\n",
    "# [Married-AF-spouse, Married-civ-spouse)]-> married\n",
    "# [w/o pay, never worked] -> not_working\n",
    "# [Never-married] -> never_married\n",
    "# [Married-spouse-absent, Separated, Divorced, Widowed] -> not-married\n",
    "\n",
    "df_input[\"married\"] = np.where( ((df_input[\"marital\"] == \"Married-AF-spouse\") | (df_input[\"marital\"] == \"Married-civ-spouse\") ), 1, 0)\n",
    "\n",
    "df_input[\"never_married\"] = np.where( (df_input[\"marital\"] == \"Never-married\" ), 1, 0)\n",
    "\n",
    "df_input[\"not_married\"] = np.where( ((df_input[\"marital\"] == \"Married-spouse-absent\") | (df_input[\"marital\"] == \"Separated\") \n",
    "| (df_input[\"marital\"] == \"Divorced\") | (df_input[\"marital\"] == \"Widowed\")), 1, 0)\n",
    "\n",
    "df_input.drop(columns=[\"marital\"],inplace=True)\n",
    "\n",
    "# df_input"
   ]
  },
  {
   "cell_type": "code",
   "execution_count": 379,
   "id": "d7aed58a",
   "metadata": {},
   "outputs": [],
   "source": [
    "# Merge values and creation of new binary assymetric attributes, OCCUPATION\n",
    "# [Exec-managerial]-> exec_managerial\n",
    "# [Prof-specialty] -> prof_specialty\n",
    "# [Tech-support, Adm-clerical, Priv-house-serv, Protective-serv, Armed-Forces, Other-service] -> other\n",
    "# [Craft-repair, Farming-fishing, Handlers-cleaners, Machine-op-inspct, Transport-moving] -> manual_work\n",
    "# [Sales] -> sales\n",
    "\n",
    "df_input[\"exec_managerial\"] = np.where( ((df_input[\"occupation\"] == \"Exec-managerial\")), 1, 0)\n",
    "\n",
    "df_input[\"prof_specialty\"] = np.where( ((df_input[\"occupation\"] == \"Prof-specialty\")), 1, 0)\n",
    "\n",
    "df_input[\"other\"] = np.where( ((df_input[\"occupation\"] == \"Tech-support\") | (df_input[\"occupation\"] == \"Adm-clerical\")\n",
    "| (df_input[\"occupation\"] == \"Priv-house-serv\") | (df_input[\"occupation\"] == \"Protective-serv\") \n",
    "| (df_input[\"occupation\"] == \"Armed-Forces\")| (df_input[\"occupation\"] == \"Other-service\") ), 1, 0)\n",
    "\n",
    "df_input[\"manual_work\"] = np.where( ((df_input[\"occupation\"] == \"Craft-repair\") | (df_input[\"occupation\"] == \"Farming-fishing\") \n",
    "| (df_input[\"occupation\"] == \"Handlers-cleaners\") | (df_input[\"occupation\"] == \"Machine-op-inspct\") | (df_input[\"occupation\"] == \"Transport-moving\")), 1, 0)\n",
    "\n",
    "df_input[\"sales\"] = np.where( ((df_input[\"occupation\"] == \"Sales\")), 1, 0)\n",
    "df_input.drop(columns=[\"occupation\"],inplace=True)\n",
    "\n",
    "# TESTING\n",
    "# sas = df_input.loc[(df_input[\"exec_managerial\"] == 0) & (df_input[\"prof_specialty\"] == 0)  & (df_input[\"other\"] == 0) & (df_input[\"manual_work\"] == 0) & \n",
    "# (df_input[\"sales\"] == 0)]\n",
    "# sas"
   ]
  },
  {
   "cell_type": "code",
   "execution_count": 380,
   "id": "9916dd96",
   "metadata": {},
   "outputs": [],
   "source": [
    "# BINARIZATION OF EXTRA ATTRIBUTES [race,sex,income]\n",
    "\n",
    "#Where 1 means >50k , and 0 otherwise\n",
    "df_input[\"income\"] = np.where( ((df_input[\"income\"] == \">50K\")), 1, 0)\n",
    "\n",
    "#creation of assymetric attributes for gender \n",
    "df_input[\"male\"] = np.where( ((df_input[\"sex\"] == \"Male\")), 1, 0)\n",
    "df_input[\"female\"] = np.where( ((df_input[\"sex\"] == \"Female\")), 1, 0)\n",
    "df_input.drop(columns=[\"sex\"],inplace=True)\n",
    "\n",
    "#creation of assymetric attributes for race\n",
    "#print(df_input['race'].unique()) ---> ['White' 'Asian-Pac-Islander' 'Black' 'Other' 'Amer-Indian-Eskimo']\n",
    "df_input[\"white\"] = np.where( ((df_input[\"race\"] == \"White\")), 1, 0)\n",
    "df_input[\"asian\"] = np.where( ((df_input[\"race\"] == \"Asian-Pac-Islander\")), 1, 0)\n",
    "df_input[\"black\"] = np.where( ((df_input[\"race\"] == \"Black\")), 1, 0)\n",
    "df_input[\"other\"] = np.where( ((df_input[\"race\"] == \"Other\")), 1, 0)\n",
    "df_input[\"amerindian\"] = np.where( ((df_input[\"race\"] == \"Amer-Indian-Eskimo\")), 1, 0)\n",
    "df_input.drop(columns=[\"race\"],inplace=True)\n",
    "\n",
    "# TESTING\n",
    "# sas = df_input.loc[(df_input[\"white\"] ==1) & (df_input[\"asian\"] ==1) & (df_input[\"black\"] ==1) & (df_input[\"other\"] ==1) & (df_input[\"amerindian\"] ==1)]\n",
    "# sas"
   ]
  },
  {
   "cell_type": "markdown",
   "id": "be6b1738",
   "metadata": {},
   "source": [
    "TEST DATA PREPROCESSING"
   ]
  },
  {
   "cell_type": "code",
   "execution_count": 381,
   "id": "b6b228e3",
   "metadata": {},
   "outputs": [],
   "source": [
    "\n",
    "#Dropping irrelevent attributes\n",
    "df_test.drop(columns=[\"fnlwgt\",\"education\",\"relationship\",\"education_num\"],inplace=True)"
   ]
  },
  {
   "cell_type": "code",
   "execution_count": 382,
   "id": "eff06535",
   "metadata": {},
   "outputs": [],
   "source": [
    "#binarization of capital gain, capital loss, and native country attributes\n",
    "df_test.capital_gain[df_test.capital_gain.astype(int) > 0] = 1\n",
    "df_test.capital_gain[df_test.capital_gain.astype(int) == 0] = 0\n",
    "\n",
    "df_test.capital_loss[df_test.capital_loss.astype(int) > 0] = 1\n",
    "df_test.capital_loss[df_test.capital_loss.astype(int) == 0] = 0\n"
   ]
  },
  {
   "cell_type": "code",
   "execution_count": 383,
   "id": "ef04abf7",
   "metadata": {},
   "outputs": [],
   "source": [
    "df_test[\"country\"] = np.where(df_test[\"country\"] == \"United-States\", 1, 0)\n",
    "# df_test"
   ]
  },
  {
   "cell_type": "code",
   "execution_count": 384,
   "id": "eb27ee82",
   "metadata": {},
   "outputs": [],
   "source": [
    "#Discretization of continuous attributes [age,hours_per_week]\n",
    "df_test[\"young\"] = np.where(df_test.age.astype(int) <= 25, 1, 0)\n",
    "df_test[\"adult\"] = np.where((df_test.age.astype(int) >= 26) & (df_test.age.astype(int) <= 45), 1, 0)\n",
    "df_test[\"senior\"] = np.where((df_test.age.astype(int) >= 46) & (df_test.age.astype(int) <= 65), 1, 0)\n",
    "df_test[\"old\"] = np.where((df_test.age.astype(int) >= 66) & (df_test.age.astype(int) <= 90), 1, 0)\n",
    "\n",
    "df_test.drop(columns=[\"age\"],inplace=True)\n",
    "# df_test"
   ]
  },
  {
   "cell_type": "code",
   "execution_count": 385,
   "id": "d8dc584e",
   "metadata": {},
   "outputs": [],
   "source": [
    "df_test[\"part_time\"] = np.where(df_test.hr_per_week.astype(int) < 40, 1, 0)\n",
    "df_test[\"full_time\"] = np.where(df_test.hr_per_week.astype(int) == 40, 1, 0)\n",
    "df_test[\"over_time\"] = np.where(df_test.hr_per_week.astype(int) > 40, 1, 0)\n",
    "\n",
    "df_test.drop(columns=[\"hr_per_week\"],inplace=True)\n",
    "\n",
    "# df_test"
   ]
  },
  {
   "cell_type": "code",
   "execution_count": 386,
   "id": "93f181a6",
   "metadata": {},
   "outputs": [],
   "source": [
    "# Merge values and creation of new binary assymetric attributes, WORKING CLASS\n",
    "# [Fed,local,stat]-> gov\n",
    "# [w/o pay, never worked] -> not_working\n",
    "# [Private] -> private\n",
    "# [Self-inc,self-not-inc] -> self_employed\n",
    "\n",
    "df_test[\"gov\"] = np.where( ((df_test[\"type_employer\"] == \"Federal-gov\") | (df_test[\"type_employer\"] == \"Local-gov\") | (df_test[\"type_employer\"] == \"State-gov\")), 1, 0)\n",
    "\n",
    "df_test[\"not_working\"] = np.where( ((df_test[\"type_employer\"] == \"Without-pay\") | (df_test[\"type_employer\"] == \"Never-worked\")), 1, 0)\n",
    "\n",
    "df_test[\"private\"] = np.where( (df_test[\"type_employer\"] == \"Private\"), 1, 0)\n",
    "\n",
    "df_test[\"self_employed\"] = np.where( ((df_test[\"type_employer\"] == \"Self-emp-inc\") | (df_test[\"type_employer\"] == \"Self-emp-not-inc\")), 1, 0)\n",
    "\n",
    "df_test.drop(columns=[\"type_employer\"],inplace=True)\n",
    "\n",
    "# df_test"
   ]
  },
  {
   "cell_type": "code",
   "execution_count": 387,
   "id": "1aee324c",
   "metadata": {},
   "outputs": [],
   "source": [
    "# Merge values and creation of new binary assymetric attributes, MARITAL STATUS\n",
    "# [Married-AF-spouse, Married-civ-spouse)]-> married\n",
    "# [w/o pay, never worked] -> not_working\n",
    "# [Never-married] -> never_married\n",
    "# [Married-spouse-absent, Separated, Divorced, Widowed] -> not-married\n",
    "\n",
    "df_test[\"married\"] = np.where( ((df_test[\"marital\"] == \"Married-AF-spouse\") | (df_test[\"marital\"] == \"Married-civ-spouse\") ), 1, 0)\n",
    "\n",
    "df_test[\"never_married\"] = np.where( (df_test[\"marital\"] == \"Never-married\" ), 1, 0)\n",
    "\n",
    "df_test[\"not_married\"] = np.where( ((df_test[\"marital\"] == \"Married-spouse-absent\") | (df_test[\"marital\"] == \"Separated\") \n",
    "| (df_test[\"marital\"] == \"Divorced\") | (df_test[\"marital\"] == \"Widowed\")), 1, 0)\n",
    "\n",
    "df_test.drop(columns=[\"marital\"],inplace=True)\n",
    "\n",
    "# df_test"
   ]
  },
  {
   "cell_type": "code",
   "execution_count": 388,
   "id": "278108a1",
   "metadata": {},
   "outputs": [],
   "source": [
    "# Merge values and creation of new binary assymetric attributes, OCCUPATION\n",
    "# [Exec-managerial]-> exec_managerial\n",
    "# [Prof-specialty] -> prof_specialty\n",
    "# [Tech-support, Adm-clerical, Priv-house-serv, Protective-serv, Armed-Forces, Other-service] -> other\n",
    "# [Craft-repair, Farming-fishing, Handlers-cleaners, Machine-op-inspct, Transport-moving] -> manual_work\n",
    "# [Sales] -> sales\n",
    "\n",
    "df_test[\"exec_managerial\"] = np.where( ((df_test[\"occupation\"] == \"Exec-managerial\")), 1, 0)\n",
    "\n",
    "df_test[\"prof_specialty\"] = np.where( ((df_test[\"occupation\"] == \"Prof-specialty\")), 1, 0)\n",
    "\n",
    "df_test[\"other\"] = np.where( ((df_test[\"occupation\"] == \"Tech-support\") | (df_test[\"occupation\"] == \"Adm-clerical\")\n",
    "| (df_test[\"occupation\"] == \"Priv-house-serv\") | (df_test[\"occupation\"] == \"Protective-serv\") \n",
    "| (df_test[\"occupation\"] == \"Armed-Forces\")| (df_test[\"occupation\"] == \"Other-service\") ), 1, 0)\n",
    "\n",
    "df_test[\"manual_work\"] = np.where( ((df_test[\"occupation\"] == \"Craft-repair\") | (df_test[\"occupation\"] == \"Farming-fishing\") \n",
    "| (df_test[\"occupation\"] == \"Handlers-cleaners\") | (df_test[\"occupation\"] == \"Machine-op-inspct\") | (df_test[\"occupation\"] == \"Transport-moving\")), 1, 0)\n",
    "\n",
    "df_test[\"sales\"] = np.where( ((df_test[\"occupation\"] == \"Sales\")), 1, 0)\n",
    "df_test.drop(columns=[\"occupation\"],inplace=True)\n",
    "\n",
    "# TESTING\n",
    "# sas = df_test.loc[(df_test[\"exec_managerial\"] == 0) & (df_test[\"prof_specialty\"] == 0)  & (df_test[\"other\"] == 0) & (df_test[\"manual_work\"] == 0) & \n",
    "# (df_test[\"sales\"] == 0)]\n",
    "# sas"
   ]
  },
  {
   "cell_type": "code",
   "execution_count": 389,
   "id": "4a08a527",
   "metadata": {},
   "outputs": [],
   "source": [
    "# BINARIZATION OF EXTRA ATTRIBUTES [race,sex] \n",
    "\n",
    "#creation of assymetric attributes for gender \n",
    "df_test[\"male\"] = np.where( ((df_test[\"sex\"] == \"Male\")), 1, 0)\n",
    "df_test[\"female\"] = np.where( ((df_test[\"sex\"] == \"Female\")), 1, 0)\n",
    "df_test.drop(columns=[\"sex\"],inplace=True)\n",
    "\n",
    "#creation of assymetric attributes for race\n",
    "#print(df_test['race'].unique()) ---> ['White' 'Asian-Pac-Islander' 'Black' 'Other' 'Amer-Indian-Eskimo']\n",
    "df_test[\"white\"] = np.where( ((df_test[\"race\"] == \"White\")), 1, 0)\n",
    "df_test[\"asian\"] = np.where( ((df_test[\"race\"] == \"Asian-Pac-Islander\")), 1, 0)\n",
    "df_test[\"black\"] = np.where( ((df_test[\"race\"] == \"Black\")), 1, 0)\n",
    "df_test[\"other\"] = np.where( ((df_test[\"race\"] == \"Other\")), 1, 0)\n",
    "df_test[\"amerindian\"] = np.where( ((df_test[\"race\"] == \"Amer-Indian-Eskimo\")), 1, 0)\n",
    "df_test.drop(columns=[\"race\"],inplace=True)\n",
    "\n",
    "# TESTING\n",
    "# sas = df_test.loc[(df_test[\"white\"] ==1) & (df_test[\"asian\"] ==1) & (df_test[\"black\"] ==1) & (df_test[\"other\"] ==1) & (df_test[\"amerindian\"] ==1)]\n",
    "# sas"
   ]
  },
  {
   "cell_type": "code",
   "execution_count": 390,
   "id": "37c31c76",
   "metadata": {},
   "outputs": [
    {
     "name": "stdout",
     "output_type": "stream",
     "text": [
      "INPUT DATA:  (3700, 29)\n",
      "TEST  DATA:  (1000, 29)\n"
     ]
    }
   ],
   "source": [
    "# NOTE: LEFT THE INCOME COLUMN INTACT\n",
    "# df_test\n",
    "print(\"INPUT DATA: \",df_input.shape)\n",
    "print(\"TEST  DATA: \",df_test.shape)"
   ]
  },
  {
   "cell_type": "markdown",
   "id": "210a6f36",
   "metadata": {},
   "source": [
    "TRAINING AND MODEL SELECTION (DECISION TREE)"
   ]
  },
  {
   "cell_type": "code",
   "execution_count": 391,
   "id": "0ad18281",
   "metadata": {},
   "outputs": [],
   "source": [
    "X = df_input.drop(columns=[\"income\"])\n",
    "Y = df_input[\"income\"]\n",
    "\n",
    "#Validation and training set parititon\n",
    "#random_state = 2 because we are team number two\n",
    "X_train,X_test,Y_train,Y_test = train_test_split(X,Y,test_size = 0.25,random_state=2)"
   ]
  },
  {
   "cell_type": "code",
   "execution_count": 392,
   "id": "4d000aa0",
   "metadata": {},
   "outputs": [
    {
     "data": {
      "text/plain": [
       "DecisionTreeClassifier()"
      ]
     },
     "execution_count": 392,
     "metadata": {},
     "output_type": "execute_result"
    }
   ],
   "source": [
    "#Creation of the decision tree classifier using the default hyperparamters\n",
    "model = DecisionTreeClassifier()\n",
    "model.fit(X_train,Y_train)\n"
   ]
  },
  {
   "cell_type": "code",
   "execution_count": 393,
   "id": "e409a187",
   "metadata": {},
   "outputs": [],
   "source": [
    "predictions_validation_set = model.predict(X_test)"
   ]
  },
  {
   "cell_type": "code",
   "execution_count": 394,
   "id": "87925619",
   "metadata": {},
   "outputs": [
    {
     "name": "stdout",
     "output_type": "stream",
     "text": [
      "VVALIDATION SET ACCURACY 76.43%\n"
     ]
    }
   ],
   "source": [
    "score = accuracy_score(Y_test, predictions_validation_set)\n",
    "print(\"VALIDATION SET ACCURACY %.2f%%\" % (score*100))\n"
   ]
  }
 ],
 "metadata": {
  "kernelspec": {
   "display_name": "Python 3 (ipykernel)",
   "language": "python",
   "name": "python3"
  },
  "language_info": {
   "codemirror_mode": {
    "name": "ipython",
    "version": 3
   },
   "file_extension": ".py",
   "mimetype": "text/x-python",
   "name": "python",
   "nbconvert_exporter": "python",
   "pygments_lexer": "ipython3",
   "version": "3.10.0"
  }
 },
 "nbformat": 4,
 "nbformat_minor": 5
}
