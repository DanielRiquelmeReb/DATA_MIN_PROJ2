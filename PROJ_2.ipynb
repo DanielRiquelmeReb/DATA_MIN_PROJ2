{
 "cells": [
  {
   "cell_type": "code",
   "execution_count": 121,
   "id": "9e9d1843",
   "metadata": {},
   "outputs": [
    {
     "name": "stderr",
     "output_type": "stream",
     "text": [
      "C:\\Users\\driqu001\\AppData\\Local\\Temp\\ipykernel_1564\\166307858.py:23: FutureWarning: The frame.append method is deprecated and will be removed from pandas in a future version. Use pandas.concat instead.\n",
      "  df_input = df_input.append(first_row_input,ignore_index = True)\n"
     ]
    }
   ],
   "source": [
    "import pandas as pd\n",
    "import numpy as np\n",
    "\n",
    "#READ data frame \n",
    "df_input = pd.read_csv(\"adult.input\")\n",
    "df_test = pd.read_csv(\"adult.test\")\n",
    "\n",
    "#add the column names\n",
    "df_input.columns = ['age','type_employer','fnlwgt','education','education_num','marital','occupation',\n",
    "             'relationship','race','sex','capital_gain','capital_loss','hr_per_week','country',\n",
    "             'income']\n",
    "df_test.columns = ['age','type_employer','fnlwgt','education','education_num','marital','occupation',\n",
    "             'relationship','race','sex','capital_gain','capital_loss','hr_per_week','country',\n",
    "             'income']\n",
    "\n",
    "#add missing first row, due to column name change\n",
    "first_row_input = {'age' : '24','type_employer' : 'Private','fnlwgt' : '176189','education' : 'HS-grad',\n",
    "       'education_num' : '9','marital' : 'Married-civ-spouse','occupation' : 'Machine-op-inspct',\n",
    "             'relationship' : 'Husband','race' : 'White','sex' : 'Male','capital_gain' : '0',\n",
    "       'capital_loss' : '0','hr_per_week' : '40','country' : 'United-States',\n",
    "             'income' : '<=50K'}\n",
    "\n",
    "df_input = df_input.append(first_row_input,ignore_index = True)"
   ]
  },
  {
   "cell_type": "code",
   "execution_count": 122,
   "id": "8ab1a644",
   "metadata": {},
   "outputs": [
    {
     "name": "stderr",
     "output_type": "stream",
     "text": [
      "C:\\Users\\driqu001\\AppData\\Local\\Temp\\ipykernel_1564\\4204825365.py:6: FutureWarning: The frame.append method is deprecated and will be removed from pandas in a future version. Use pandas.concat instead.\n",
      "  df_test = df_test.append(first_row_test,ignore_index = True)\n"
     ]
    }
   ],
   "source": [
    "first_row_test = {'age' : '43','type_employer' : 'Self-emp-not-inc','fnlwgt' : '292175','education' : 'Masters',\n",
    "       'education_num' : '14','marital' : 'Divorced','occupation' : 'Exec-managerial',\n",
    "             'relationship' : 'Unmarried','race' : 'White','sex' : 'Female','capital_gain' : '0',\n",
    "       'capital_loss' : '0','hr_per_week' : '45','country' : 'United-States',\n",
    "             'income' : '?'}\n",
    "df_test = df_test.append(first_row_test,ignore_index = True)"
   ]
  },
  {
   "cell_type": "code",
   "execution_count": 123,
   "id": "e587a14a",
   "metadata": {},
   "outputs": [],
   "source": [
    "\n",
    "#remove instances with the missing values \"?\" marker\n",
    "df_input = df_input.loc[df_input[\"age\"] != \"?\"]\n",
    "df_input = df_input.loc[df_input[\"type_employer\"] != \"?\"]\n",
    "df_input = df_input.loc[df_input[\"fnlwgt\"] != \"?\"]\n",
    "df_input = df_input.loc[df_input[\"education\"] != \"?\"]\n",
    "df_input = df_input.loc[df_input[\"education_num\"] != \"?\"]\n",
    "df_input = df_input.loc[df_input[\"marital\"] != \"?\"]\n",
    "df_input = df_input.loc[df_input[\"occupation\"] != \"?\"]\n",
    "df_input = df_input.loc[df_input[\"relationship\"] != \"?\"]\n",
    "df_input = df_input.loc[df_input[\"race\"] != \"?\"]\n",
    "df_input = df_input.loc[df_input[\"sex\"] != \"?\"]\n",
    "df_input = df_input.loc[df_input[\"capital_gain\"] != \"?\"]\n",
    "df_input = df_input.loc[df_input[\"capital_loss\"] != \"?\"]\n",
    "df_input = df_input.loc[df_input[\"hr_per_week\"] != \"?\"]\n",
    "df_input = df_input.loc[df_input[\"country\"] != \"?\"]\n",
    "df_input = df_input.loc[df_input[\"income\"] != \"?\"]\n",
    "\n",
    "#df_input.shape"
   ]
  },
  {
   "cell_type": "code",
   "execution_count": 124,
   "id": "d4a6d7d6",
   "metadata": {},
   "outputs": [],
   "source": [
    "#remove attributes fnlwgt,education,relationship\n",
    "df_input.drop(columns=[\"fnlwgt\",\"education\",\"relationship\"],inplace=True)\n",
    "\n",
    "#df_input.shape"
   ]
  },
  {
   "cell_type": "code",
   "execution_count": 125,
   "id": "7a7be807",
   "metadata": {},
   "outputs": [],
   "source": [
    "#binarization of capital gain, capital loss, and native country attributes\n",
    "df_input.capital_gain[df_input.capital_gain.astype(int) > 0] = 1\n",
    "df_input.capital_gain[df_input.capital_gain.astype(int) == 0] = 0\n",
    "\n",
    "df_input.capital_loss[df_input.capital_loss.astype(int) > 0] = 1\n",
    "df_input.capital_loss[df_input.capital_loss.astype(int) == 0] = 0\n"
   ]
  },
  {
   "cell_type": "code",
   "execution_count": 126,
   "id": "db2675ce",
   "metadata": {},
   "outputs": [],
   "source": [
    "df_input[\"country\"] = np.where(df_input[\"country\"] == \"United-States\", 1, 0)\n",
    "\n",
    "#df_input"
   ]
  },
  {
   "cell_type": "code",
   "execution_count": 127,
   "id": "25776e15",
   "metadata": {},
   "outputs": [],
   "source": [
    "#Discretization of continuous attributes [age,hours_per_week]\n",
    "df_input[\"young\"] = np.where(df_input.age.astype(int) <= 25, 1, 0)\n",
    "df_input[\"adult\"] = np.where((df_input.age.astype(int) >= 26) & (df_input.age.astype(int) <= 45), 1, 0)\n",
    "df_input[\"senior\"] = np.where((df_input.age.astype(int) >= 46) & (df_input.age.astype(int) <= 65), 1, 0)\n",
    "df_input[\"old\"] = np.where((df_input.age.astype(int) >= 66) & (df_input.age.astype(int) <= 90), 1, 0)\n",
    "\n",
    "df_input.drop(columns=[\"age\"],inplace=True)\n",
    "#df_input"
   ]
  },
  {
   "cell_type": "code",
   "execution_count": 128,
   "id": "816075ed",
   "metadata": {},
   "outputs": [],
   "source": [
    "df_input[\"part_time\"] = np.where(df_input.hr_per_week.astype(int) < 40, 1, 0)\n",
    "df_input[\"full_time\"] = np.where(df_input.hr_per_week.astype(int) == 40, 1, 0)\n",
    "df_input[\"over_time\"] = np.where(df_input.hr_per_week.astype(int) > 40, 1, 0)\n",
    "df_input.drop(columns=[\"hr_per_week\"],inplace=True)\n",
    "\n",
    "# df_input"
   ]
  },
  {
   "cell_type": "code",
   "execution_count": 129,
   "id": "e25ff2c7",
   "metadata": {},
   "outputs": [],
   "source": [
    "# Merge values and creation of new binary assymetric attributes, WORKING CLASS\n",
    "# [Fed,local,stat]-> gov\n",
    "# [w/o pay, never worked] -> not_working\n",
    "# [Private] -> private\n",
    "# [Self-inc,self-not-inc] -> self_employed\n",
    "\n",
    "df_input[\"gov\"] = np.where( ((df_input[\"type_employer\"] == \"Federal-gov\") | (df_input[\"type_employer\"] == \"Local-gov\") | (df_input[\"type_employer\"] == \"State-gov\")), 1, 0)\n",
    "df_input[\"not_working\"] = np.where( ((df_input[\"type_employer\"] == \"Without-pay\") | (df_input[\"type_employer\"] == \"Never-worked\")), 1, 0)\n",
    "df_input[\"private\"] = np.where( (df_input[\"type_employer\"] == \"Private\"), 1, 0)\n",
    "df_input[\"self_employed\"] = np.where( ((df_input[\"type_employer\"] == \"Self-emp-inc\") | (df_input[\"type_employer\"] == \"Self-emp-not-inc\")), 1, 0)\n",
    "\n",
    "df_input.drop(columns=[\"type_employer\"],inplace=True)\n",
    "\n",
    "# df_input"
   ]
  },
  {
   "cell_type": "code",
   "execution_count": 130,
   "id": "762ac5af",
   "metadata": {},
   "outputs": [],
   "source": [
    "# Merge values and creation of new binary assymetric attributes, MARITAL STATUS\n",
    "# [Married-AF-spouse, Married-civ-spouse)]-> married\n",
    "# [w/o pay, never worked] -> not_working\n",
    "# [Never-married] -> never_married\n",
    "# [Married-spouse-absent, Separated, Divorced, Widowed] -> not-married\n",
    "\n",
    "df_input[\"married\"] = np.where( ((df_input[\"marital\"] == \"Married-AF-spouse\") | (df_input[\"marital\"] == \"Married-civ-spouse\") ), 1, 0)\n",
    "df_input[\"never_married\"] = np.where( (df_input[\"marital\"] == \"Never-married\" ), 1, 0)\n",
    "df_input[\"not_married\"] = np.where( ((df_input[\"marital\"] == \"Married-spouse-absent\") | (df_input[\"marital\"] == \"Separated\") \n",
    "| (df_input[\"marital\"] == \"Divorced\") | (df_input[\"marital\"] == \"Widowed\")), 1, 0)\n",
    "\n",
    "df_input.drop(columns=[\"marital\"],inplace=True)\n",
    "\n",
    "# df_input"
   ]
  },
  {
   "cell_type": "code",
   "execution_count": 131,
   "id": "d7aed58a",
   "metadata": {},
   "outputs": [],
   "source": [
    "# Merge values and creation of new binary assymetric attributes, OCCUPATION\n",
    "# [Exec-managerial]-> exec_managerial\n",
    "# [Prof-specialty] -> prof_specialty\n",
    "# [Tech-support, Adm-clerical, Priv-house-serv, Protective-serv, Armed-Forces, Other-service] -> other\n",
    "# [Craft-repair, Farming-fishing, Handlers-cleaners, Machine-op-inspct, Transport-moving] -> manual_work\n",
    "# [Sales] -> manual_work\n"
   ]
  },
  {
   "cell_type": "code",
   "execution_count": null,
   "id": "9916dd96",
   "metadata": {},
   "outputs": [],
   "source": []
  }
 ],
 "metadata": {
  "kernelspec": {
   "display_name": "Python 3 (ipykernel)",
   "language": "python",
   "name": "python3"
  },
  "language_info": {
   "codemirror_mode": {
    "name": "ipython",
    "version": 3
   },
   "file_extension": ".py",
   "mimetype": "text/x-python",
   "name": "python",
   "nbconvert_exporter": "python",
   "pygments_lexer": "ipython3",
   "version": "3.10.0"
  }
 },
 "nbformat": 4,
 "nbformat_minor": 5
}
